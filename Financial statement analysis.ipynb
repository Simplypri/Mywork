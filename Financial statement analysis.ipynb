{
 "cells": [
  {
   "cell_type": "code",
   "execution_count": null,
   "metadata": {},
   "outputs": [],
   "source": []
  },
  {
   "cell_type": "markdown",
   "metadata": {},
   "source": [
    " You are a Data Scientist working for a consulting firm. One of your colleagues from the Auditing department has asked you to help them assess the\n",
    "financial statement of organisation X.\n",
    "You have been supplied with two lists of data: monthly revenue and monthly expenses for the financial year in question. Your task is to calculate the following\n",
    "financial metrics:\n",
    "- profit for each month\n",
    "- profit after tax for each month (the tax rate is 30%)\n",
    "- profit margin for each month - equals to profit after tax divided by revenue\n",
    "- good months - where the profit after tax was greater than the mean for the year\n",
    "- bad months - where the profit after tax was less than the mean for the year\n",
    "- the best month - where the profit after tax was max for the year\n",
    "- the worst month - where the profit after tax was min for the year"
   ]
  },
  {
   "cell_type": "code",
   "execution_count": 3,
   "metadata": {},
   "outputs": [],
   "source": [
    "#Data \n",
    "revenue = [14574.49, 7606.46, 8611.41, 9175.41, 8058.65, 8105.44, 11496.28, 9766.09, 10305.32, 14379.96, 10713.97, 15433.50]\n",
    "expenses = [12051.82, 5695.07, 12319.20, 12089.72, 8658.57, 840.20, 3285.73, 5821.12, 6976.93, 16618.61, 10054.37, 3803.96]"
   ]
  },
  {
   "cell_type": "markdown",
   "metadata": {},
   "source": [
    "Calculating profit(revenue-expense)"
   ]
  },
  {
   "cell_type": "code",
   "execution_count": 6,
   "metadata": {},
   "outputs": [],
   "source": [
    "profit = []\n",
    "\n",
    "for i in range(0,len(revenue)):\n",
    "    profit.append (revenue[i] - expenses[i])"
   ]
  },
  {
   "cell_type": "code",
   "execution_count": 7,
   "metadata": {},
   "outputs": [
    {
     "data": {
      "text/plain": [
       "[2522.67,\n",
       " 1911.3900000000003,\n",
       " -3707.790000000001,\n",
       " -2914.3099999999995,\n",
       " -599.9200000000001,\n",
       " 7265.24,\n",
       " 8210.550000000001,\n",
       " 3944.9700000000003,\n",
       " 3328.3899999999994,\n",
       " -2238.6500000000015,\n",
       " 659.5999999999985,\n",
       " 11629.54]"
      ]
     },
     "execution_count": 7,
     "metadata": {},
     "output_type": "execute_result"
    }
   ],
   "source": [
    "profit"
   ]
  },
  {
   "cell_type": "markdown",
   "metadata": {},
   "source": [
    "Calculate tax as profit*30%\n"
   ]
  },
  {
   "cell_type": "code",
   "execution_count": 8,
   "metadata": {},
   "outputs": [],
   "source": [
    "tax = [round(i *.30, 2) for i in profit]"
   ]
  },
  {
   "cell_type": "code",
   "execution_count": 10,
   "metadata": {},
   "outputs": [
    {
     "data": {
      "text/plain": [
       "[756.8,\n",
       " 573.42,\n",
       " -1112.34,\n",
       " -874.29,\n",
       " -179.98,\n",
       " 2179.57,\n",
       " 2463.17,\n",
       " 1183.49,\n",
       " 998.52,\n",
       " -671.6,\n",
       " 197.88,\n",
       " 3488.86]"
      ]
     },
     "execution_count": 10,
     "metadata": {},
     "output_type": "execute_result"
    }
   ],
   "source": [
    "tax"
   ]
  },
  {
   "cell_type": "markdown",
   "metadata": {},
   "source": [
    "Calculate Profit after tax"
   ]
  },
  {
   "cell_type": "code",
   "execution_count": 11,
   "metadata": {},
   "outputs": [
    {
     "data": {
      "text/plain": [
       "[1765.8700000000001,\n",
       " 1337.9700000000003,\n",
       " -2595.4500000000007,\n",
       " -2040.0199999999995,\n",
       " -419.94000000000005,\n",
       " 5085.67,\n",
       " 5747.380000000001,\n",
       " 2761.4800000000005,\n",
       " 2329.8699999999994,\n",
       " -1567.0500000000015,\n",
       " 461.71999999999855,\n",
       " 8140.68]"
      ]
     },
     "execution_count": 11,
     "metadata": {},
     "output_type": "execute_result"
    }
   ],
   "source": [
    "profit_after_tax = []\n",
    "\n",
    "for i in range(0,len(profit)):\n",
    "    profit_after_tax.append(profit[i] - tax[i])\n",
    "    \n",
    "profit_after_tax"
   ]
  },
  {
   "cell_type": "markdown",
   "metadata": {},
   "source": [
    "Calculating Profit Margin"
   ]
  },
  {
   "cell_type": "code",
   "execution_count": 20,
   "metadata": {},
   "outputs": [
    {
     "data": {
      "text/plain": [
       "[12.12,\n",
       " 17.59,\n",
       " -30.14,\n",
       " -22.23,\n",
       " -5.21,\n",
       " 62.74,\n",
       " 49.99,\n",
       " 28.28,\n",
       " 22.61,\n",
       " -10.9,\n",
       " 4.31,\n",
       " 52.75]"
      ]
     },
     "execution_count": 20,
     "metadata": {},
     "output_type": "execute_result"
    }
   ],
   "source": [
    "profit_margin = []\n",
    "\n",
    "for i in range(0,len(profit)):\n",
    "    temp=round((profit_after_tax[i]/revenue[i])*100,2)\n",
    "    profit_margin.append(temp)\n",
    "    #profit_margin[i] = round(profit_margin[i] * 100,2)\n",
    "    \n",
    "profit_margin"
   ]
  },
  {
   "cell_type": "markdown",
   "metadata": {},
   "source": [
    "Calculate the mean of Profit_after_tax"
   ]
  },
  {
   "cell_type": "code",
   "execution_count": 22,
   "metadata": {},
   "outputs": [
    {
     "data": {
      "text/plain": [
       "1750.6816666666666"
      ]
     },
     "execution_count": 22,
     "metadata": {},
     "output_type": "execute_result"
    }
   ],
   "source": [
    "mean_profit_after_tax = sum(profit_after_tax)/len(profit_after_tax)\n",
    "\n",
    "mean_profit_after_tax"
   ]
  },
  {
   "cell_type": "markdown",
   "metadata": {},
   "source": [
    "Calculate  the good months"
   ]
  },
  {
   "cell_type": "code",
   "execution_count": 23,
   "metadata": {},
   "outputs": [
    {
     "data": {
      "text/plain": [
       "[True, False, False, False, False, True, True, True, True, False, False, True]"
      ]
     },
     "execution_count": 23,
     "metadata": {},
     "output_type": "execute_result"
    }
   ],
   "source": [
    "good_months = []\n",
    "\n",
    "for i in range(0,len(profit)):\n",
    "    temp = profit_after_tax[i] > mean_profit_after_tax\n",
    "    good_months.append(temp)\n",
    "    \n",
    "good_months"
   ]
  },
  {
   "cell_type": "code",
   "execution_count": 24,
   "metadata": {},
   "outputs": [],
   "source": [
    "#The months indexed as True i.e. 0,5,6,7,8,11 are the good months\n"
   ]
  },
  {
   "cell_type": "markdown",
   "metadata": {},
   "source": [
    "Calculate the bad months"
   ]
  },
  {
   "cell_type": "code",
   "execution_count": 26,
   "metadata": {},
   "outputs": [
    {
     "data": {
      "text/plain": [
       "[False, True, True, True, True, False, False, False, False, True, True, False]"
      ]
     },
     "execution_count": 26,
     "metadata": {},
     "output_type": "execute_result"
    }
   ],
   "source": [
    "bad_months = []\n",
    "\n",
    "for i in range(0,len(profit)):\n",
    "    temp = profit_after_tax[i] < mean_profit_after_tax\n",
    "    bad_months.append(temp)\n",
    "    \n",
    "bad_months"
   ]
  },
  {
   "cell_type": "code",
   "execution_count": 27,
   "metadata": {},
   "outputs": [],
   "source": [
    "#The months indexed as True i.e. 1,2,3,4,9,10 are the bad months"
   ]
  },
  {
   "cell_type": "markdown",
   "metadata": {},
   "source": [
    "Calculating the Best Month"
   ]
  },
  {
   "cell_type": "code",
   "execution_count": 29,
   "metadata": {},
   "outputs": [
    {
     "data": {
      "text/plain": [
       "[False,\n",
       " False,\n",
       " False,\n",
       " False,\n",
       " False,\n",
       " False,\n",
       " False,\n",
       " False,\n",
       " False,\n",
       " False,\n",
       " False,\n",
       " True]"
      ]
     },
     "execution_count": 29,
     "metadata": {},
     "output_type": "execute_result"
    }
   ],
   "source": [
    "best_month = []\n",
    "\n",
    "for i in range(0,len(profit)):\n",
    "    best_month.append(profit_after_tax[i] == max(profit_after_tax))\n",
    "   # best_month = max(profit_after_tax)\n",
    "\n",
    "best_month"
   ]
  },
  {
   "cell_type": "code",
   "execution_count": 30,
   "metadata": {},
   "outputs": [
    {
     "data": {
      "text/plain": [
       "[False,\n",
       " False,\n",
       " True,\n",
       " False,\n",
       " False,\n",
       " False,\n",
       " False,\n",
       " False,\n",
       " False,\n",
       " False,\n",
       " False,\n",
       " False]"
      ]
     },
     "execution_count": 30,
     "metadata": {},
     "output_type": "execute_result"
    }
   ],
   "source": [
    "worst_month = []\n",
    "\n",
    "for i in range(0,len(profit)):\n",
    "    worst_month.append(profit_after_tax[i] == min(profit_after_tax))\n",
    "    \n",
    "worst_month"
   ]
  },
  {
   "cell_type": "code",
   "execution_count": null,
   "metadata": {},
   "outputs": [],
   "source": []
  }
 ],
 "metadata": {
  "kernelspec": {
   "display_name": "Python 3",
   "language": "python",
   "name": "python3"
  },
  "language_info": {
   "codemirror_mode": {
    "name": "ipython",
    "version": 3
   },
   "file_extension": ".py",
   "mimetype": "text/x-python",
   "name": "python",
   "nbconvert_exporter": "python",
   "pygments_lexer": "ipython3",
   "version": "3.8.3"
  }
 },
 "nbformat": 4,
 "nbformat_minor": 4
}
